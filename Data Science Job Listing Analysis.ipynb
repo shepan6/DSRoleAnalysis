{
 "cells": [
  {
   "cell_type": "code",
   "execution_count": 1,
   "metadata": {},
   "outputs": [
    {
     "name": "stdout",
     "output_type": "stream",
     "text": [
      "2.0.0\n"
     ]
    }
   ],
   "source": [
    "import numpy as np\n",
    "import tensorflow as tf\n",
    "from tensorflow import keras as ks\n",
    "print(tf.__version__)\n",
    "import pandas as pd\n",
    "import seaborn as sns\n",
    "\n",
    "%matplotlib inline\n",
    "import matplotlib.pyplot as plt\n",
    "\n",
    "#plt.rcParams['figure.figsize'] = (12, 10)\n",
    "#colors = plt.rcParams['axes.prop_cycle'].by_key()['color']\n",
    "\n",
    "from tensorflow import feature_column\n",
    "from tensorflow.keras import layers\n",
    "from tensorflow.keras import regularizers\n",
    "\n",
    "from DSAnalysis import CleanUp, JobAnalysis\n",
    "from tqdm import tqdm"
   ]
  },
  {
   "cell_type": "markdown",
   "metadata": {},
   "source": [
    "# Supplementary Functions"
   ]
  },
  {
   "cell_type": "code",
   "execution_count": 37,
   "metadata": {},
   "outputs": [],
   "source": [
    "cu = CleanUp()\n",
    "\n",
    "def encode_idxs(txt):\n",
    "    \n",
    "    \"\"\"\n",
    "    Converts each token/word into the corresponding index in \n",
    "    the vocabulary list in vocab.txt.\n",
    "    \n",
    "    :param txt: (String) Job listing text\n",
    "    \n",
    "    :return idxs: (List) of indicies\n",
    "    \"\"\"\n",
    "    \n",
    "    idxs = []\n",
    "    \n",
    "    for word in word_tokenize(txt):\n",
    "        try:\n",
    "            idxs.append(vocab.index(word))\n",
    "        except:\n",
    "            idxs.append(vocab.index(\"UNK\"))\n",
    "            \n",
    "        \n",
    "    return idxs\n",
    "\n",
    "def clean_listing(txt, s_tokenize = True):\n",
    "    \n",
    "    \"\"\"\n",
    "    Cleans job listing text. The cleaning process includes\n",
    "    removing stopwords and punctuation.\n",
    "    \n",
    "    :param filename: (String) job listing text file\n",
    "    :param s_tokenize: (Boolean) perform sentence tokenisation. \n",
    "    This process should be true when preparing the text for \n",
    "    model prediction.\n",
    "    \"\"\"\n",
    "    txt = cu.clean_text(txt, s_tokenize)\n",
    "    return txt"
   ]
  },
  {
   "cell_type": "markdown",
   "metadata": {},
   "source": [
    "# Plotting Settings"
   ]
  },
  {
   "cell_type": "code",
   "execution_count": 67,
   "metadata": {},
   "outputs": [],
   "source": [
    "from matplotlib.colors import LinearSegmentedColormap\n",
    "\n",
    "myColors = ((237,248,251, 1.0),\n",
    "            (179,205,227, 1.0),\n",
    "            (140,150,198, 1.0),\n",
    "           (136,86,167, 1.0),\n",
    "           (129,15,124, 1.0))\n",
    "myColors = np.array(myColors)\n",
    "myColors[:, :-1] /= 255.0\n",
    "myColors = list(myColors)\n",
    "cmap = LinearSegmentedColormap.from_list('Custom', myColors, len(myColors))"
   ]
  },
  {
   "cell_type": "markdown",
   "metadata": {},
   "source": [
    "# Data Input\n",
    "\n",
    "Copy the job listing text and paste this within the \"\" and run the cell.  "
   ]
  },
  {
   "cell_type": "code",
   "execution_count": 32,
   "metadata": {},
   "outputs": [],
   "source": [
    "txt = \"\"\"This is an example job listing.\"\"\""
   ]
  },
  {
   "cell_type": "markdown",
   "metadata": {},
   "source": [
    "# Commercial Experience Prediction\n",
    "\n",
    "## Data Preprocessing\n",
    "\n",
    "1. Encoding words in job listing into indicies. Words which do not appear in the training data vocabulary are encoded with the unknown flag (UNK). Numbers are encoded by the DIGIT flag. This allows for model to encode words not present in the training set and classify the sentences within the job listing.\n",
    "2. Padding sequences of indicies into sequences of a consistent length."
   ]
  },
  {
   "cell_type": "code",
   "execution_count": 49,
   "metadata": {},
   "outputs": [],
   "source": [
    "# 1)\n",
    "# Vocabulary which has appeared in training set.\n",
    "vocab = open(\"vocab.txt\").read().splitlines()\n",
    "\n",
    "\"\"\"Words which will be assigned the unknown flag (UNK)\n",
    "This will allow the model to classify any sentence,\n",
    "whether it has observed every word in it or no.t\"\"\"\n",
    "unk_words = pd.read_csv(\"UNK_flag.csv\", index_col = 0)\n",
    "# Applied 50th percentile over word counts as UNK flag\n",
    "unk_words = list(unk_words[\"word\"].values)\n",
    "\n",
    "unk_words = unk_words + list(set(word_tokenize(txt)) - set(vocab))\n",
    "\n",
    "print(\"Number of unknown words: {}\".format(len(unk_words)))\n",
    "print(\"Number of vocab words: {}\".format(len(vocab)))"
   ]
  },
  {
   "cell_type": "code",
   "execution_count": 50,
   "metadata": {},
   "outputs": [],
   "source": [
    "# 2)\n",
    "# Converting the text into sequential data for the model\n",
    "\n",
    "X = clean_listing(txt, s_tokenize = True)\n",
    "\n",
    "data = pd.DataFrame({\"sentence\": X})\n",
    "data.loc[:, \"desc\"] = \"job_listing\"\n",
    "\n",
    "# Making the text sequences the same length for the purpose of prediction.\n",
    "\n",
    "seq = [encode_idxs(txt) for txt in data[\"sentence\"]] \n",
    "X = tf.keras.preprocessing.sequence.pad_sequences(seq)"
   ]
  },
  {
   "cell_type": "markdown",
   "metadata": {},
   "source": [
    "## Model Specifications"
   ]
  },
  {
   "cell_type": "code",
   "execution_count": 53,
   "metadata": {},
   "outputs": [],
   "source": [
    "model = tf.keras.models.load_model('b-relations.h5')\n",
    "model.summary()"
   ]
  },
  {
   "cell_type": "code",
   "execution_count": null,
   "metadata": {},
   "outputs": [],
   "source": [
    "# Model Predictions\n",
    "\n",
    "predictions = model.predict(X)\n",
    "\n",
    "predictions = np.argmax(predictions, axis = 1)\n",
    "\n",
    "data.loc[:, \"Predicted Classes\"] = predictions\n",
    "\n",
    "data"
   ]
  },
  {
   "cell_type": "code",
   "execution_count": 80,
   "metadata": {},
   "outputs": [
    {
     "data": {
      "image/png": "[encoded data removed]",
      "text/plain": [
       "<Figure size 576x288 with 2 Axes>"
      ]
     },
     "metadata": {
      "needs_background": "light"
     },
     "output_type": "display_data"
    }
   ],
   "source": [
    "# Preparing predictions for visualisation\n",
    "\n",
    "desc_relations = data.groupby([\"desc\", \"Predicted Classes\"]).size()\n",
    "desc_relations = pd.DataFrame(desc_relations / desc_relations.groupby(level=0).sum()).reset_index()\n",
    "\n",
    "relation_viz = np.zeros(3)\n",
    "for i in desc_relations.iterrows():\n",
    "    relation_viz[i[1][\"Predicted Classes\"]] += i[1][0]\n",
    "\n",
    "# Plotting proportions of relation strength \n",
    "\n",
    "plt.figure(figsize = (8,4))\n",
    "ax = sns.heatmap(relation_viz.reshape(-1, 1).T, annot = True, linewidths = .5, cmap = cmap, vmax = 1.0)\n",
    "\n",
    "# Discretizing relation strength by the following\n",
    "colorbar = ax.collections[0].colorbar\n",
    "colorbar.set_ticks([0, 0.2, 0.4 , 0.6 ,0.8 , 1.0])\n",
    "colorbar.set_ticklabels(['Very Low', 'Low', 'Moderate', 'High', 'Very High'])\n",
    "\n",
    "# Plot features\n",
    "plt.title(\"Proportions of Relation Strength of Job Listing\")\n",
    "plt.ylabel(\"Relation Strength\")\n",
    "plt.yticks([],[])\n",
    "plt.xticks([.5,1.5,2.5], [\"None\", \"B  → T\", \"T → T\"])\n",
    "plt.show()"
   ]
  },
  {
   "cell_type": "markdown",
   "metadata": {},
   "source": [
    "# Skills Match\n",
    "\n",
    "Run the cell below to populate the dictionary with skills that you have and do not have which frequently appear in the LinkedIn dataset."
   ]
  },
  {
   "cell_type": "code",
   "execution_count": 27,
   "metadata": {},
   "outputs": [
    {
     "name": "stderr",
     "output_type": "stream",
     "text": [
      "\r",
      "  0%|          | 0/10 [00:00<?, ?it/s]"
     ]
    },
    {
     "name": "stdout",
     "output_type": "stream",
     "text": [
      "If you have the skill, type 1 and ENTER. If not type 0 and ENTER\n",
      "ai: 1\n"
     ]
    },
    {
     "name": "stderr",
     "output_type": "stream",
     "text": [
      "\r",
      " 10%|█         | 1/10 [00:04<00:39,  4.41s/it]"
     ]
    },
    {
     "name": "stdout",
     "output_type": "stream",
     "text": [
      "algebra : 1\n"
     ]
    },
    {
     "name": "stderr",
     "output_type": "stream",
     "text": [
      "\r",
      " 20%|██        | 2/10 [00:04<00:25,  3.18s/it]"
     ]
    },
    {
     "name": "stdout",
     "output_type": "stream",
     "text": [
      "algorithm : 1\n"
     ]
    },
    {
     "name": "stderr",
     "output_type": "stream",
     "text": [
      "\r",
      " 30%|███       | 3/10 [00:04<00:16,  2.30s/it]"
     ]
    },
    {
     "name": "stdout",
     "output_type": "stream",
     "text": [
      "algorithmic : 1\n"
     ]
    },
    {
     "name": "stderr",
     "output_type": "stream",
     "text": [
      "\r",
      " 40%|████      | 4/10 [00:05<00:10,  1.68s/it]"
     ]
    },
    {
     "name": "stdout",
     "output_type": "stream",
     "text": [
      "algorithms : 1\n"
     ]
    },
    {
     "name": "stderr",
     "output_type": "stream",
     "text": [
      "\r",
      " 50%|█████     | 5/10 [00:05<00:06,  1.24s/it]"
     ]
    },
    {
     "name": "stdout",
     "output_type": "stream",
     "text": [
      "algorithmsmodels : 1\n"
     ]
    },
    {
     "name": "stderr",
     "output_type": "stream",
     "text": [
      "\r",
      " 60%|██████    | 6/10 [00:05<00:03,  1.01it/s]"
     ]
    },
    {
     "name": "stdout",
     "output_type": "stream",
     "text": [
      "analyse : 1\n"
     ]
    },
    {
     "name": "stderr",
     "output_type": "stream",
     "text": [
      "\r",
      " 70%|███████   | 7/10 [00:06<00:02,  1.23it/s]"
     ]
    },
    {
     "name": "stdout",
     "output_type": "stream",
     "text": [
      "analyses : 1\n"
     ]
    },
    {
     "name": "stderr",
     "output_type": "stream",
     "text": [
      "\r",
      " 80%|████████  | 8/10 [00:06<00:01,  1.50it/s]"
     ]
    },
    {
     "name": "stdout",
     "output_type": "stream",
     "text": [
      "analysing : \n",
      "Please type in 0 or 1 as a response.\n",
      "0 : Do not have the skill.\n",
      "1 : Do have the skill\n",
      "analysing : 1\n"
     ]
    },
    {
     "name": "stderr",
     "output_type": "stream",
     "text": [
      "\r",
      " 90%|█████████ | 9/10 [00:08<00:00,  1.02it/s]"
     ]
    },
    {
     "name": "stdout",
     "output_type": "stream",
     "text": [
      "analysis : 1\n"
     ]
    },
    {
     "name": "stderr",
     "output_type": "stream",
     "text": [
      "100%|██████████| 10/10 [00:08<00:00,  1.13it/s]\n"
     ]
    }
   ],
   "source": [
    "# If you have the skill, change the 0 to a 1.\n",
    "my_skills = {}\n",
    "skills = open(\"skills.txt\").read().splitlines()\n",
    "\n",
    "print(\"If you have the skill, type 1 and ENTER. If not type 0 and ENTER\")\n",
    "for s in tqdm(skills):\n",
    "    have_skill = 2\n",
    "    while have_skill < 0 or have_skill > 1:\n",
    "        try:\n",
    "            have_skill = int(input(\"{}: \".format(s)))\n",
    "        except:\n",
    "            print(\"Please type in 0 or 1 as a response.\")\n",
    "            print(\"0 : Do not have the skill.\")\n",
    "            print(\"1 : Do have the skill\")\n",
    "            have_skill = 2 \n",
    "    my_skills[s] = have_skill\n",
    "    "
   ]
  },
  {
   "cell_type": "markdown",
   "metadata": {},
   "source": [
    "Run the following cell to compute the Job Listing Content (JLC) skills match "
   ]
  },
  {
   "cell_type": "code",
   "execution_count": 31,
   "metadata": {},
   "outputs": [
    {
     "name": "stdout",
     "output_type": "stream",
     "text": [
      "1 1\n",
      "Skills match with the job listing: 100.0%\n"
     ]
    }
   ],
   "source": [
    "my_skills = pd.DataFrame(my_skills, index = [0]).T.reset_index()\n",
    "my_skills.columns = [\"Skills\", \"Skills I have\"]\n",
    "my_skills[\"Skills I have\"] = np.where(my_skills[\"Skills I have\"] == 0, np.nan, 1)\n",
    "\n",
    "j = JobAnalysis(my_skills)\n",
    "\n",
    "\n",
    "c_text = cu.clean_text(txt, s_tokenize = False)\n",
    "skills_match = j.skills_match(c_text)\n",
    "\n",
    "print(\"Skills match with the job listing: {}%\".format(skills_match * 100))"
   ]
  }
 ],
 "metadata": {
  "kernelspec": {
   "display_name": "Python 3",
   "language": "python",
   "name": "python3"
  },
  "language_info": {
   "codemirror_mode": {
    "name": "ipython",
    "version": 3
   },
   "file_extension": ".py",
   "mimetype": "text/x-python",
   "name": "python",
   "nbconvert_exporter": "python",
   "pygments_lexer": "ipython3",
   "version": "3.7.7"
  }
 },
 "nbformat": 4,
 "nbformat_minor": 4
}
